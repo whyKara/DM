{
 "cells": [
  {
   "cell_type": "code",
   "execution_count": 1,
   "metadata": {},
   "outputs": [],
   "source": [
    "import numpy as np # linear algebra\n",
    "import pandas as pd # data processing, CSV file I/O (e.g. pd.read_csv)\n",
    "import matplotlib.pyplot as plt # for data visualization\n",
    "import seaborn as sns # for statistical data visualization\n",
    "%matplotlib inline"
   ]
  },
  {
   "cell_type": "markdown",
   "metadata": {},
   "source": [
    "EDA"
   ]
  },
  {
   "cell_type": "code",
   "execution_count": 40,
   "metadata": {},
   "outputs": [],
   "source": [
    "import warnings\n",
    "warnings.filterwarnings('ignore')\n",
    "\n",
    "accuracy = {}"
   ]
  },
  {
   "cell_type": "code",
   "execution_count": 3,
   "metadata": {},
   "outputs": [
    {
     "data": {
      "text/html": [
       "<div>\n",
       "<style scoped>\n",
       "    .dataframe tbody tr th:only-of-type {\n",
       "        vertical-align: middle;\n",
       "    }\n",
       "\n",
       "    .dataframe tbody tr th {\n",
       "        vertical-align: top;\n",
       "    }\n",
       "\n",
       "    .dataframe thead th {\n",
       "        text-align: right;\n",
       "    }\n",
       "</style>\n",
       "<table border=\"1\" class=\"dataframe\">\n",
       "  <thead>\n",
       "    <tr style=\"text-align: right;\">\n",
       "      <th></th>\n",
       "      <th>age</th>\n",
       "      <th>sex</th>\n",
       "      <th>fracture</th>\n",
       "      <th>weight_kg</th>\n",
       "      <th>height_cm</th>\n",
       "      <th>medication</th>\n",
       "      <th>waiting_time</th>\n",
       "      <th>bmd</th>\n",
       "      <th>T-Score</th>\n",
       "      <th>Condition</th>\n",
       "    </tr>\n",
       "    <tr>\n",
       "      <th>id</th>\n",
       "      <th></th>\n",
       "      <th></th>\n",
       "      <th></th>\n",
       "      <th></th>\n",
       "      <th></th>\n",
       "      <th></th>\n",
       "      <th></th>\n",
       "      <th></th>\n",
       "      <th></th>\n",
       "      <th></th>\n",
       "    </tr>\n",
       "  </thead>\n",
       "  <tbody>\n",
       "    <tr>\n",
       "      <th>5495</th>\n",
       "      <td>35.814058</td>\n",
       "      <td>M</td>\n",
       "      <td>no fracture</td>\n",
       "      <td>79.0</td>\n",
       "      <td>168.5</td>\n",
       "      <td>No medication</td>\n",
       "      <td>33</td>\n",
       "      <td>0.7895</td>\n",
       "      <td>-1.250000</td>\n",
       "      <td>Osteopenia</td>\n",
       "    </tr>\n",
       "    <tr>\n",
       "      <th>3088</th>\n",
       "      <td>36.648311</td>\n",
       "      <td>M</td>\n",
       "      <td>no fracture</td>\n",
       "      <td>54.0</td>\n",
       "      <td>175.0</td>\n",
       "      <td>No medication</td>\n",
       "      <td>11</td>\n",
       "      <td>0.8560</td>\n",
       "      <td>-0.704918</td>\n",
       "      <td>Healthy Bone Density</td>\n",
       "    </tr>\n",
       "    <tr>\n",
       "      <th>834</th>\n",
       "      <td>37.461995</td>\n",
       "      <td>M</td>\n",
       "      <td>fracture</td>\n",
       "      <td>55.0</td>\n",
       "      <td>156.0</td>\n",
       "      <td>No medication</td>\n",
       "      <td>7</td>\n",
       "      <td>0.6884</td>\n",
       "      <td>-2.078689</td>\n",
       "      <td>Osteopenia</td>\n",
       "    </tr>\n",
       "    <tr>\n",
       "      <th>6696</th>\n",
       "      <td>39.254947</td>\n",
       "      <td>M</td>\n",
       "      <td>no fracture</td>\n",
       "      <td>76.0</td>\n",
       "      <td>173.5</td>\n",
       "      <td>No medication</td>\n",
       "      <td>6</td>\n",
       "      <td>1.0502</td>\n",
       "      <td>0.886885</td>\n",
       "      <td>Healthy Bone Density</td>\n",
       "    </tr>\n",
       "    <tr>\n",
       "      <th>5288</th>\n",
       "      <td>40.232367</td>\n",
       "      <td>M</td>\n",
       "      <td>no fracture</td>\n",
       "      <td>66.0</td>\n",
       "      <td>165.0</td>\n",
       "      <td>No medication</td>\n",
       "      <td>8</td>\n",
       "      <td>1.0390</td>\n",
       "      <td>0.795082</td>\n",
       "      <td>Healthy Bone Density</td>\n",
       "    </tr>\n",
       "  </tbody>\n",
       "</table>\n",
       "</div>"
      ],
      "text/plain": [
       "            age sex     fracture  weight_kg  height_cm     medication  \\\n",
       "id                                                                      \n",
       "5495  35.814058   M  no fracture       79.0      168.5  No medication   \n",
       "3088  36.648311   M  no fracture       54.0      175.0  No medication   \n",
       "834   37.461995   M     fracture       55.0      156.0  No medication   \n",
       "6696  39.254947   M  no fracture       76.0      173.5  No medication   \n",
       "5288  40.232367   M  no fracture       66.0      165.0  No medication   \n",
       "\n",
       "      waiting_time     bmd   T-Score             Condition  \n",
       "id                                                          \n",
       "5495            33  0.7895 -1.250000            Osteopenia  \n",
       "3088            11  0.8560 -0.704918  Healthy Bone Density  \n",
       "834              7  0.6884 -2.078689            Osteopenia  \n",
       "6696             6  1.0502  0.886885  Healthy Bone Density  \n",
       "5288             8  1.0390  0.795082  Healthy Bone Density  "
      ]
     },
     "execution_count": 3,
     "metadata": {},
     "output_type": "execute_result"
    }
   ],
   "source": [
    "df = pd.read_csv('bmd.csv',index_col=0)\n",
    "df.head()"
   ]
  },
  {
   "cell_type": "code",
   "execution_count": 4,
   "metadata": {},
   "outputs": [
    {
     "data": {
      "text/html": [
       "<div>\n",
       "<style scoped>\n",
       "    .dataframe tbody tr th:only-of-type {\n",
       "        vertical-align: middle;\n",
       "    }\n",
       "\n",
       "    .dataframe tbody tr th {\n",
       "        vertical-align: top;\n",
       "    }\n",
       "\n",
       "    .dataframe thead th {\n",
       "        text-align: right;\n",
       "    }\n",
       "</style>\n",
       "<table border=\"1\" class=\"dataframe\">\n",
       "  <thead>\n",
       "    <tr style=\"text-align: right;\">\n",
       "      <th></th>\n",
       "      <th>age</th>\n",
       "      <th>sex</th>\n",
       "      <th>fracture</th>\n",
       "      <th>weight_kg</th>\n",
       "      <th>height_cm</th>\n",
       "      <th>medication</th>\n",
       "      <th>waiting_time</th>\n",
       "      <th>bmd</th>\n",
       "      <th>T-Score</th>\n",
       "      <th>Condition</th>\n",
       "    </tr>\n",
       "    <tr>\n",
       "      <th>id</th>\n",
       "      <th></th>\n",
       "      <th></th>\n",
       "      <th></th>\n",
       "      <th></th>\n",
       "      <th></th>\n",
       "      <th></th>\n",
       "      <th></th>\n",
       "      <th></th>\n",
       "      <th></th>\n",
       "      <th></th>\n",
       "    </tr>\n",
       "  </thead>\n",
       "  <tbody>\n",
       "    <tr>\n",
       "      <th>5495</th>\n",
       "      <td>0</td>\n",
       "      <td>1</td>\n",
       "      <td>1</td>\n",
       "      <td>41</td>\n",
       "      <td>40</td>\n",
       "      <td>2</td>\n",
       "      <td>28</td>\n",
       "      <td>83</td>\n",
       "      <td>83</td>\n",
       "      <td>1</td>\n",
       "    </tr>\n",
       "    <tr>\n",
       "      <th>3088</th>\n",
       "      <td>1</td>\n",
       "      <td>1</td>\n",
       "      <td>1</td>\n",
       "      <td>13</td>\n",
       "      <td>48</td>\n",
       "      <td>2</td>\n",
       "      <td>6</td>\n",
       "      <td>111</td>\n",
       "      <td>111</td>\n",
       "      <td>0</td>\n",
       "    </tr>\n",
       "    <tr>\n",
       "      <th>834</th>\n",
       "      <td>2</td>\n",
       "      <td>1</td>\n",
       "      <td>0</td>\n",
       "      <td>14</td>\n",
       "      <td>18</td>\n",
       "      <td>2</td>\n",
       "      <td>2</td>\n",
       "      <td>46</td>\n",
       "      <td>46</td>\n",
       "      <td>1</td>\n",
       "    </tr>\n",
       "    <tr>\n",
       "      <th>6696</th>\n",
       "      <td>3</td>\n",
       "      <td>1</td>\n",
       "      <td>1</td>\n",
       "      <td>38</td>\n",
       "      <td>46</td>\n",
       "      <td>2</td>\n",
       "      <td>1</td>\n",
       "      <td>159</td>\n",
       "      <td>159</td>\n",
       "      <td>0</td>\n",
       "    </tr>\n",
       "    <tr>\n",
       "      <th>5288</th>\n",
       "      <td>4</td>\n",
       "      <td>1</td>\n",
       "      <td>1</td>\n",
       "      <td>26</td>\n",
       "      <td>34</td>\n",
       "      <td>2</td>\n",
       "      <td>3</td>\n",
       "      <td>157</td>\n",
       "      <td>157</td>\n",
       "      <td>0</td>\n",
       "    </tr>\n",
       "  </tbody>\n",
       "</table>\n",
       "</div>"
      ],
      "text/plain": [
       "      age  sex  fracture  weight_kg  height_cm  medication  waiting_time  bmd  \\\n",
       "id                                                                              \n",
       "5495    0    1         1         41         40           2            28   83   \n",
       "3088    1    1         1         13         48           2             6  111   \n",
       "834     2    1         0         14         18           2             2   46   \n",
       "6696    3    1         1         38         46           2             1  159   \n",
       "5288    4    1         1         26         34           2             3  157   \n",
       "\n",
       "      T-Score  Condition  \n",
       "id                        \n",
       "5495       83          1  \n",
       "3088      111          0  \n",
       "834        46          1  \n",
       "6696      159          0  \n",
       "5288      157          0  "
      ]
     },
     "execution_count": 4,
     "metadata": {},
     "output_type": "execute_result"
    }
   ],
   "source": [
    "from sklearn import preprocessing\n",
    "\n",
    "label_encoder =  preprocessing.LabelEncoder()\n",
    "\n",
    "for col in df.columns:\n",
    "    df[col]=label_encoder.fit_transform(df[col])\n",
    "\n",
    "df.head()"
   ]
  },
  {
   "cell_type": "code",
   "execution_count": 5,
   "metadata": {},
   "outputs": [],
   "source": [
    "\n",
    "from sklearn.model_selection import train_test_split\n",
    "\n",
    "X = df.drop(['Condition'], axis=1)\n",
    "y = df['Condition']\n",
    "\n",
    "X_train, X_test, y_train, y_test = train_test_split(X, y, test_size=0.3) "
   ]
  },
  {
   "cell_type": "code",
   "execution_count": 6,
   "metadata": {},
   "outputs": [],
   "source": [
    "cols = X_train.columns"
   ]
  },
  {
   "cell_type": "code",
   "execution_count": 7,
   "metadata": {},
   "outputs": [],
   "source": [
    "from sklearn.preprocessing import StandardScaler\n",
    "\n",
    "scaler = StandardScaler()\n",
    "X_train = scaler.fit_transform(X_train)\n",
    "X_test = scaler.transform(X_test)"
   ]
  },
  {
   "cell_type": "code",
   "execution_count": 8,
   "metadata": {},
   "outputs": [
    {
     "data": {
      "text/html": [
       "<div>\n",
       "<style scoped>\n",
       "    .dataframe tbody tr th:only-of-type {\n",
       "        vertical-align: middle;\n",
       "    }\n",
       "\n",
       "    .dataframe tbody tr th {\n",
       "        vertical-align: top;\n",
       "    }\n",
       "\n",
       "    .dataframe thead tr th {\n",
       "        text-align: left;\n",
       "    }\n",
       "</style>\n",
       "<table border=\"1\" class=\"dataframe\">\n",
       "  <thead>\n",
       "    <tr>\n",
       "      <th></th>\n",
       "      <th>age</th>\n",
       "      <th>sex</th>\n",
       "      <th>fracture</th>\n",
       "      <th>weight_kg</th>\n",
       "      <th>height_cm</th>\n",
       "      <th>medication</th>\n",
       "      <th>waiting_time</th>\n",
       "      <th>bmd</th>\n",
       "      <th>T-Score</th>\n",
       "    </tr>\n",
       "  </thead>\n",
       "  <tbody>\n",
       "    <tr>\n",
       "      <th>count</th>\n",
       "      <td>1.180000e+02</td>\n",
       "      <td>1.180000e+02</td>\n",
       "      <td>1.180000e+02</td>\n",
       "      <td>1.180000e+02</td>\n",
       "      <td>1.180000e+02</td>\n",
       "      <td>1.180000e+02</td>\n",
       "      <td>1.180000e+02</td>\n",
       "      <td>1.180000e+02</td>\n",
       "      <td>1.180000e+02</td>\n",
       "    </tr>\n",
       "    <tr>\n",
       "      <th>mean</th>\n",
       "      <td>1.505387e-17</td>\n",
       "      <td>1.392483e-16</td>\n",
       "      <td>8.279629e-17</td>\n",
       "      <td>9.408670e-17</td>\n",
       "      <td>1.655926e-16</td>\n",
       "      <td>3.481208e-17</td>\n",
       "      <td>5.127725e-17</td>\n",
       "      <td>-2.869644e-17</td>\n",
       "      <td>-2.869644e-17</td>\n",
       "    </tr>\n",
       "    <tr>\n",
       "      <th>std</th>\n",
       "      <td>1.004264e+00</td>\n",
       "      <td>1.004264e+00</td>\n",
       "      <td>1.004264e+00</td>\n",
       "      <td>1.004264e+00</td>\n",
       "      <td>1.004264e+00</td>\n",
       "      <td>1.004264e+00</td>\n",
       "      <td>1.004264e+00</td>\n",
       "      <td>1.004264e+00</td>\n",
       "      <td>1.004264e+00</td>\n",
       "    </tr>\n",
       "    <tr>\n",
       "      <th>min</th>\n",
       "      <td>-1.771785e+00</td>\n",
       "      <td>-1.034493e+00</td>\n",
       "      <td>-1.450953e+00</td>\n",
       "      <td>-2.126440e+00</td>\n",
       "      <td>-1.845817e+00</td>\n",
       "      <td>-3.274185e+00</td>\n",
       "      <td>-1.115380e+00</td>\n",
       "      <td>-1.733528e+00</td>\n",
       "      <td>-1.733528e+00</td>\n",
       "    </tr>\n",
       "    <tr>\n",
       "      <th>25%</th>\n",
       "      <td>-8.035808e-01</td>\n",
       "      <td>-1.034493e+00</td>\n",
       "      <td>-1.450953e+00</td>\n",
       "      <td>-8.284314e-01</td>\n",
       "      <td>-8.605201e-01</td>\n",
       "      <td>4.587023e-01</td>\n",
       "      <td>-8.408303e-01</td>\n",
       "      <td>-8.761512e-01</td>\n",
       "      <td>-8.761512e-01</td>\n",
       "    </tr>\n",
       "    <tr>\n",
       "      <th>50%</th>\n",
       "      <td>-3.004203e-02</td>\n",
       "      <td>9.666572e-01</td>\n",
       "      <td>6.892024e-01</td>\n",
       "      <td>1.442632e-03</td>\n",
       "      <td>-6.112812e-02</td>\n",
       "      <td>4.587023e-01</td>\n",
       "      <td>-3.550888e-01</td>\n",
       "      <td>1.317792e-02</td>\n",
       "      <td>1.317792e-02</td>\n",
       "    </tr>\n",
       "    <tr>\n",
       "      <th>75%</th>\n",
       "      <td>8.459523e-01</td>\n",
       "      <td>9.666572e-01</td>\n",
       "      <td>6.892024e-01</td>\n",
       "      <td>8.525955e-01</td>\n",
       "      <td>8.312164e-01</td>\n",
       "      <td>4.587023e-01</td>\n",
       "      <td>4.896790e-01</td>\n",
       "      <td>8.812057e-01</td>\n",
       "      <td>8.812057e-01</td>\n",
       "    </tr>\n",
       "    <tr>\n",
       "      <th>max</th>\n",
       "      <td>1.670719e+00</td>\n",
       "      <td>9.666572e-01</td>\n",
       "      <td>6.892024e-01</td>\n",
       "      <td>2.129325e+00</td>\n",
       "      <td>1.946647e+00</td>\n",
       "      <td>4.587023e-01</td>\n",
       "      <td>2.686075e+00</td>\n",
       "      <td>1.759884e+00</td>\n",
       "      <td>1.759884e+00</td>\n",
       "    </tr>\n",
       "  </tbody>\n",
       "</table>\n",
       "</div>"
      ],
      "text/plain": [
       "                age           sex      fracture     weight_kg     height_cm  \\\n",
       "count  1.180000e+02  1.180000e+02  1.180000e+02  1.180000e+02  1.180000e+02   \n",
       "mean   1.505387e-17  1.392483e-16  8.279629e-17  9.408670e-17  1.655926e-16   \n",
       "std    1.004264e+00  1.004264e+00  1.004264e+00  1.004264e+00  1.004264e+00   \n",
       "min   -1.771785e+00 -1.034493e+00 -1.450953e+00 -2.126440e+00 -1.845817e+00   \n",
       "25%   -8.035808e-01 -1.034493e+00 -1.450953e+00 -8.284314e-01 -8.605201e-01   \n",
       "50%   -3.004203e-02  9.666572e-01  6.892024e-01  1.442632e-03 -6.112812e-02   \n",
       "75%    8.459523e-01  9.666572e-01  6.892024e-01  8.525955e-01  8.312164e-01   \n",
       "max    1.670719e+00  9.666572e-01  6.892024e-01  2.129325e+00  1.946647e+00   \n",
       "\n",
       "         medication  waiting_time           bmd       T-Score  \n",
       "count  1.180000e+02  1.180000e+02  1.180000e+02  1.180000e+02  \n",
       "mean   3.481208e-17  5.127725e-17 -2.869644e-17 -2.869644e-17  \n",
       "std    1.004264e+00  1.004264e+00  1.004264e+00  1.004264e+00  \n",
       "min   -3.274185e+00 -1.115380e+00 -1.733528e+00 -1.733528e+00  \n",
       "25%    4.587023e-01 -8.408303e-01 -8.761512e-01 -8.761512e-01  \n",
       "50%    4.587023e-01 -3.550888e-01  1.317792e-02  1.317792e-02  \n",
       "75%    4.587023e-01  4.896790e-01  8.812057e-01  8.812057e-01  \n",
       "max    4.587023e-01  2.686075e+00  1.759884e+00  1.759884e+00  "
      ]
     },
     "execution_count": 8,
     "metadata": {},
     "output_type": "execute_result"
    }
   ],
   "source": [
    "X_train = pd.DataFrame(X_train, columns=[cols])\n",
    "X_test = pd.DataFrame(X_test, columns=[cols])\n",
    "X_train.describe()\n"
   ]
  },
  {
   "cell_type": "markdown",
   "metadata": {},
   "source": [
    "Random Frost "
   ]
  },
  {
   "cell_type": "code",
   "execution_count": 41,
   "metadata": {},
   "outputs": [
    {
     "name": "stdout",
     "output_type": "stream",
     "text": [
      "Random Forest Classifier Classifier Model Accuracy: 0.9412\n"
     ]
    }
   ],
   "source": [
    "from sklearn.ensemble import RandomForestClassifier\n",
    "from sklearn.metrics import accuracy_score\n",
    "\n",
    "rfc=RandomForestClassifier(n_estimators=100)\n",
    "rfc.fit(X_train,y_train)\n",
    "\n",
    "y_pred_rfc=rfc.predict(X_test)\n",
    "\n",
    "print('Random Forest Classifier Classifier Model Accuracy: {0:0.4f}'. format(accuracy_score(y_test, y_pred_rfc)))\n",
    "accuracy['Random Forest']=(accuracy_score(y_test, y_pred_rfc))"
   ]
  },
  {
   "cell_type": "code",
   "execution_count": 10,
   "metadata": {},
   "outputs": [
    {
     "name": "stdout",
     "output_type": "stream",
     "text": [
      "[[20  0  0  0]\n",
      " [ 0 19  0  0]\n",
      " [ 0  1  2  0]\n",
      " [ 1  0  0  8]]\n"
     ]
    }
   ],
   "source": [
    "from sklearn.metrics import confusion_matrix, classification_report\n",
    "cm_rfc = confusion_matrix(y_test, y_pred_rfc)\n",
    "print(cm_rfc)\n"
   ]
  },
  {
   "cell_type": "code",
   "execution_count": 11,
   "metadata": {},
   "outputs": [
    {
     "name": "stdout",
     "output_type": "stream",
     "text": [
      "              precision    recall  f1-score   support\n",
      "\n",
      "           0       0.95      1.00      0.98        20\n",
      "           1       0.95      1.00      0.97        19\n",
      "           2       1.00      0.67      0.80         3\n",
      "           3       1.00      0.89      0.94         9\n",
      "\n",
      "    accuracy                           0.96        51\n",
      "   macro avg       0.98      0.89      0.92        51\n",
      "weighted avg       0.96      0.96      0.96        51\n",
      "\n"
     ]
    }
   ],
   "source": [
    "cl_report_rfc = classification_report(y_test, y_pred_rfc)\n",
    "print(cl_report_rfc)"
   ]
  },
  {
   "cell_type": "markdown",
   "metadata": {},
   "source": [
    "SVM"
   ]
  },
  {
   "cell_type": "code",
   "execution_count": 48,
   "metadata": {},
   "outputs": [
    {
     "name": "stdout",
     "output_type": "stream",
     "text": [
      "SVM Classifier Model Accuracy: 0.8039\n"
     ]
    }
   ],
   "source": [
    "from sklearn.svm import SVC\n",
    "\n",
    "svc=SVC() \n",
    "svc.fit(X_train,y_train)\n",
    "\n",
    "y_pred_svm=svc.predict(X_test)\n",
    "\n",
    "print('SVM Classifier Model Accuracy: {0:0.4f}'. format(accuracy_score(y_test, y_pred_svm)))\n",
    "accuracy['SVM']=(accuracy_score(y_test, y_pred_svm))"
   ]
  },
  {
   "cell_type": "code",
   "execution_count": 13,
   "metadata": {},
   "outputs": [
    {
     "data": {
      "text/plain": [
       "array([[18,  2,  0,  0],\n",
       "       [ 1, 18,  0,  0],\n",
       "       [ 0,  3,  0,  0],\n",
       "       [ 1,  3,  0,  5]])"
      ]
     },
     "execution_count": 13,
     "metadata": {},
     "output_type": "execute_result"
    }
   ],
   "source": [
    "cm_SVM = confusion_matrix(y_test, y_pred_svm)\n",
    "cm_SVM"
   ]
  },
  {
   "cell_type": "code",
   "execution_count": 14,
   "metadata": {},
   "outputs": [
    {
     "name": "stdout",
     "output_type": "stream",
     "text": [
      "              precision    recall  f1-score   support\n",
      "\n",
      "           0       0.90      0.90      0.90        20\n",
      "           1       0.69      0.95      0.80        19\n",
      "           2       0.00      0.00      0.00         3\n",
      "           3       1.00      0.56      0.71         9\n",
      "\n",
      "    accuracy                           0.80        51\n",
      "   macro avg       0.65      0.60      0.60        51\n",
      "weighted avg       0.79      0.80      0.78        51\n",
      "\n"
     ]
    }
   ],
   "source": [
    "cl_SVM = classification_report(y_test,y_pred_svm)\n",
    "print(cl_SVM)"
   ]
  },
  {
   "cell_type": "markdown",
   "metadata": {},
   "source": [
    "XGBOOST"
   ]
  },
  {
   "cell_type": "code",
   "execution_count": 49,
   "metadata": {},
   "outputs": [
    {
     "name": "stdout",
     "output_type": "stream",
     "text": [
      "XGBoost Classifier Model Accuracy: 0.9216\n"
     ]
    }
   ],
   "source": [
    "from xgboost import XGBClassifier\n",
    "\n",
    "xgb = XGBClassifier()\n",
    "xgb.fit(X_train, y_train)\n",
    "\n",
    "y_pred_xgb = xgb.predict(X_test)\n",
    "\n",
    "print('XGBoost Classifier Model Accuracy: {0:0.4f}'. format(accuracy_score(y_test, y_pred_xgb)))\n",
    "accuracy['XGBoost']=(accuracy_score(y_test, y_pred_xgb))"
   ]
  },
  {
   "cell_type": "code",
   "execution_count": 59,
   "metadata": {},
   "outputs": [
    {
     "name": "stdout",
     "output_type": "stream",
     "text": [
      "[[20  0  0  0]\n",
      " [ 1 18  0  0]\n",
      " [ 0  1  1  1]\n",
      " [ 1  0  0  8]]\n"
     ]
    }
   ],
   "source": [
    "cm_XGB = confusion_matrix(y_test, y_pred_xgb)\n",
    "print(cm_XGB)"
   ]
  },
  {
   "cell_type": "code",
   "execution_count": 31,
   "metadata": {},
   "outputs": [
    {
     "name": "stdout",
     "output_type": "stream",
     "text": [
      "              precision    recall  f1-score   support\n",
      "\n",
      "           0       0.91      1.00      0.95        20\n",
      "           1       0.95      0.95      0.95        19\n",
      "           2       1.00      0.33      0.50         3\n",
      "           3       0.89      0.89      0.89         9\n",
      "\n",
      "    accuracy                           0.92        51\n",
      "   macro avg       0.94      0.79      0.82        51\n",
      "weighted avg       0.93      0.92      0.91        51\n",
      "\n"
     ]
    }
   ],
   "source": [
    "cl_XGB = classification_report(y_test,y_pred_xgb, zero_division=1)\n",
    "print(cl_XGB)"
   ]
  },
  {
   "cell_type": "markdown",
   "metadata": {},
   "source": [
    "ADAboost"
   ]
  },
  {
   "cell_type": "code",
   "execution_count": 50,
   "metadata": {},
   "outputs": [
    {
     "name": "stdout",
     "output_type": "stream",
     "text": [
      "AdaBoost Classifier Model Accuracy: 0.9215686274509803\n"
     ]
    }
   ],
   "source": [
    "from sklearn.ensemble import AdaBoostClassifier\n",
    "\n",
    "abc = AdaBoostClassifier(n_estimators=50, learning_rate=1, random_state=0)\n",
    "\n",
    "cls_abc = abc.fit(X_train, y_train)\n",
    "y_pred_abc = cls_abc.predict(X_test)\n",
    "\n",
    "print(\"AdaBoost Classifier Model Accuracy:\", accuracy_score(y_test, y_pred_abc))\n",
    "accuracy['ADABoost']=(accuracy_score(y_test, y_pred_abc))"
   ]
  },
  {
   "cell_type": "code",
   "execution_count": 19,
   "metadata": {},
   "outputs": [
    {
     "name": "stdout",
     "output_type": "stream",
     "text": [
      "[[20  0  0  0]\n",
      " [ 0 19  0  0]\n",
      " [ 0  1  0  2]\n",
      " [ 0  0  1  8]]\n"
     ]
    }
   ],
   "source": [
    "cm_abc = confusion_matrix(y_test, y_pred_abc)\n",
    "print(cm_abc)"
   ]
  },
  {
   "cell_type": "code",
   "execution_count": 30,
   "metadata": {},
   "outputs": [
    {
     "name": "stdout",
     "output_type": "stream",
     "text": [
      "              precision    recall  f1-score   support\n",
      "\n",
      "           0       1.00      1.00      1.00        20\n",
      "           1       0.95      1.00      0.97        19\n",
      "           2       0.00      0.00      0.00         3\n",
      "           3       0.80      0.89      0.84         9\n",
      "\n",
      "    accuracy                           0.92        51\n",
      "   macro avg       0.69      0.72      0.70        51\n",
      "weighted avg       0.89      0.92      0.90        51\n",
      "\n"
     ]
    }
   ],
   "source": [
    "cl_report_abc = classification_report(y_test, y_pred_abc, zero_division=1)\n",
    "print(cl_report_abc)"
   ]
  },
  {
   "cell_type": "code",
   "execution_count": null,
   "metadata": {},
   "outputs": [],
   "source": []
  },
  {
   "cell_type": "markdown",
   "metadata": {},
   "source": [
    "Graphs"
   ]
  },
  {
   "cell_type": "code",
   "execution_count": 58,
   "metadata": {},
   "outputs": [
    {
     "data": {
      "image/png": "[encoded data removed]",
      "text/plain": [
       "<Figure size 640x480 with 1 Axes>"
      ]
     },
     "metadata": {},
     "output_type": "display_data"
    }
   ],
   "source": [
    "names = list(accuracy.keys())\n",
    "values = list(accuracy.values())\n",
    "\n",
    "plt.bar(range(len(accuracy)), values, tick_label=names)\n",
    "plt.show()"
   ]
  }
 ],
 "metadata": {
  "kernelspec": {
   "display_name": "Python 3.10.6 64-bit",
   "language": "python",
   "name": "python3"
  },
  "language_info": {
   "codemirror_mode": {
    "name": "ipython",
    "version": 3
   },
   "file_extension": ".py",
   "mimetype": "text/x-python",
   "name": "python",
   "nbconvert_exporter": "python",
   "pygments_lexer": "ipython3",
   "version": "3.10.7"
  },
  "orig_nbformat": 4,
  "vscode": {
   "interpreter": {
    "hash": "b0fa6594d8f4cbf19f97940f81e996739fb7646882a419484c72d19e05852a7e"
   }
  }
 },
 "nbformat": 4,
 "nbformat_minor": 2
}
